{
 "cells": [
  {
   "cell_type": "markdown",
   "id": "2284f0a8",
   "metadata": {},
   "source": [
    "### Comparación Estadística de los resultados de dos modelos supervisados\n",
    "\n",
    "Autor: Daniel Requena Moreno daniel.requena@proton.me"
   ]
  },
  {
   "cell_type": "code",
   "execution_count": 15,
   "id": "34fa55d3-5c12-4f16-8892-38664ec5591b",
   "metadata": {},
   "outputs": [
    {
     "name": "stdout",
     "output_type": "stream",
     "text": [
      "t-statistic: 1.3092532387953255\n",
      "p-value: 0.2605911829548277\n",
      "No hay diferencia estadísticamente significativa entre los clasificadores (p >= 0.05).\n"
     ]
    }
   ],
   "source": [
    "import scipy.stats as stats\n",
    "\n",
    "# Datos de rendimiento (porcentajes de acierto) para los clasificadores\n",
    "resultados_j48 = [94.1901, 92.9577, 92.2535, 92.6056, 94.5423]\n",
    "resultados_nb = [92.6056, 92.6056, 92.4296 , 93.1338, 92.6056]\n",
    "\n",
    "# Realizar el t-test pareado\n",
    "t_stat, p_value = stats.ttest_rel(resultados_j48, resultados_nb)\n",
    "\n",
    "print(\"t-statistic:\", t_stat)\n",
    "print(\"p-value:\", p_value)\n",
    "\n",
    "# Interpretación\n",
    "if p_value < 0.05:\n",
    "    print(\"Diferencia estadísticamente significativa entre los clasificadores (p < 0.05).\")\n",
    "else:\n",
    "    print(\"No hay diferencia estadísticamente significativa entre los clasificadores (p >= 0.05).\")"
   ]
  },
  {
   "cell_type": "code",
   "execution_count": 5,
   "id": "98127029-d43a-4dcf-8bc9-4fead09d42c2",
   "metadata": {},
   "outputs": [
    {
     "name": "stdout",
     "output_type": "stream",
     "text": [
      "t-test pareado: estadístico t=1.3093, p-valor=0.2606\n",
      "No hay diferencias estadísticamente significativas: 0.2605911829548277\n"
     ]
    }
   ],
   "source": [
    "from scipy.stats import ttest_rel\n",
    "\n",
    "# t-test pareado\n",
    "stat, p_value = ttest_rel(resultados_j48, resultados_nb)\n",
    "print(f\"t-test pareado: estadístico t={stat:.4f}, p-valor={p_value:.4f}\")\n",
    "\n",
    "if p_value < 0.05:\n",
    "    print(f\"Diferencias estadísticamente significativas entre los clasificadores: {p_value}\")\n",
    "else:\n",
    "    print(f\"No hay diferencias estadísticamente significativas: {p_value}\")"
   ]
  },
  {
   "cell_type": "code",
   "execution_count": 17,
   "id": "cf0bdd43-ef0e-4542-b62d-85320e3699e5",
   "metadata": {},
   "outputs": [
    {
     "name": "stdout",
     "output_type": "stream",
     "text": [
      "P-valor clasificador 1: 0.4061\n",
      "P-valor clasificador 2: 0.0435\n",
      "Al menos uno de los conjuntos de datos no sigue una distribución normal.\n"
     ]
    }
   ],
   "source": [
    "from scipy.stats import shapiro\n",
    "\n",
    "# Test de Shapiro-Wilk\n",
    "_, p1 = shapiro(resultados_j48)\n",
    "_, p2 = shapiro(resultados_nb)\n",
    "\n",
    "print(f\"P-valor clasificador 1: {p1:.4f}\")\n",
    "print(f\"P-valor clasificador 2: {p2:.4f}\")\n",
    "\n",
    "if p1 > 0.05 and p2 > 0.05:\n",
    "    print(\"Ambos conjuntos de datos siguen una distribución normal.\")\n",
    "else:\n",
    "    print(\"Al menos uno de los conjuntos de datos no sigue una distribución normal.\")"
   ]
  },
  {
   "cell_type": "code",
   "execution_count": 18,
   "id": "5c932ab5-20f5-48ec-ac05-5bc36e2598c7",
   "metadata": {},
   "outputs": [
    {
     "name": "stdout",
     "output_type": "stream",
     "text": [
      "Wilcoxon test: estadístico=4.0000, p-valor=0.4375\n",
      "No hay diferencias estadísticamente significativas. 0.4375\n"
     ]
    }
   ],
   "source": [
    "from scipy.stats import wilcoxon\n",
    "\n",
    "# Wilcoxon Signed-Rank Test\n",
    "stat, p_value = wilcoxon(resultados_j48, resultados_nb)\n",
    "print(f\"Wilcoxon test: estadístico={stat:.4f}, p-valor={p_value:.4f}\")\n",
    "\n",
    "if p_value < 0.05:\n",
    "    print(f\"Diferencias estadísticamente significativas entre los clasificadores. {p_value}\")\n",
    "else:\n",
    "    print(f\"No hay diferencias estadísticamente significativas. {p_value}\")"
   ]
  },
  {
   "cell_type": "markdown",
   "id": "446ee228-32ce-4b32-8c7a-46a40ac0eb2b",
   "metadata": {},
   "source": [
    "## Ejemplos artificiales"
   ]
  },
  {
   "cell_type": "markdown",
   "id": "4b9dd0f3-c8fd-42dd-9108-685c9d998fd5",
   "metadata": {},
   "source": [
    "### Ejemplo práctico: Generar y visualizar la hipótesis nula"
   ]
  },
  {
   "cell_type": "code",
   "execution_count": 9,
   "id": "cb00e2df-89ab-4fb8-9729-f5888a9eb4fe",
   "metadata": {},
   "outputs": [
    {
     "data": {
      "image/png": "[encoded data removed]",
      "text/plain": [
       "<Figure size 640x480 with 1 Axes>"
      ]
     },
     "metadata": {},
     "output_type": "display_data"
    }
   ],
   "source": [
    "import numpy as np\n",
    "import matplotlib.pyplot as plt\n",
    "\n",
    "# Generar datos simulados para dos modelos\n",
    "np.random.seed(42)\n",
    "modelo_A = np.random.normal(0.85, 0.02, 30)  # Media: 0.85, Desv. Est.: 0.02\n",
    "modelo_B = np.random.normal(0.85, 0.02, 30)  # Media: 0.85, Desv. Est.: 0.02\n",
    "\n",
    "# Visualización\n",
    "plt.hist(modelo_A, bins=10, alpha=0.5, label='Modelo A')\n",
    "plt.hist(modelo_B, bins=10, alpha=0.5, label='Modelo B')\n",
    "plt.axvline(np.mean(modelo_A), color='blue', linestyle='--', label='Media A')\n",
    "plt.axvline(np.mean(modelo_B), color='orange', linestyle='--', label='Media B')\n",
    "plt.title(\"Distribución de Rendimientos: Hipótesis Nula (\\u03BC_A = \\u03BC_B)\")\n",
    "plt.legend()\n",
    "plt.show()"
   ]
  },
  {
   "cell_type": "markdown",
   "id": "e3686891-41a2-41b2-bb57-f453b22a9a00",
   "metadata": {},
   "source": [
    "### Ejemplo práctico: Calcular el p-valor"
   ]
  },
  {
   "cell_type": "code",
   "execution_count": 10,
   "id": "a816c4c9-a7e7-4aa2-b278-f5bb7d26a697",
   "metadata": {},
   "outputs": [
    {
     "name": "stdout",
     "output_type": "stream",
     "text": [
      "Estadístico t=-0.2833, p-valor=0.7779\n",
      "No se puede rechazar H0: no hay diferencias significativas.\n"
     ]
    }
   ],
   "source": [
    "from scipy.stats import ttest_ind\n",
    "\n",
    "# Comparación estadística\n",
    "stat, p_value = ttest_ind(modelo_A, modelo_B)\n",
    "print(f\"Estadístico t={stat:.4f}, p-valor={p_value:.4f}\")\n",
    "\n",
    "# Decisión\n",
    "if p_value <= 0.05:\n",
    "    print(\"Rechazamos H0: hay diferencias significativas.\")\n",
    "else:\n",
    "    print(\"No se puede rechazar H0: no hay diferencias significativas.\")"
   ]
  },
  {
   "cell_type": "markdown",
   "id": "0b941e11-9238-4b28-bed2-17813e6b1866",
   "metadata": {},
   "source": [
    "### Ejemplo práctico: Evaluar normalidad"
   ]
  },
  {
   "cell_type": "code",
   "execution_count": 11,
   "id": "22d075a4-d43c-48a5-b7a1-0a6a2281d0a8",
   "metadata": {},
   "outputs": [
    {
     "name": "stdout",
     "output_type": "stream",
     "text": [
      "Modelo A: p-valor normalidad = 0.6868\n",
      "Modelo B: p-valor normalidad = 0.9130\n"
     ]
    }
   ],
   "source": [
    "from scipy.stats import shapiro\n",
    "\n",
    "# Verificación de normalidad\n",
    "_, p_value_A = shapiro(modelo_A)\n",
    "_, p_value_B = shapiro(modelo_B)\n",
    "print(f\"Modelo A: p-valor normalidad = {p_value_A:.4f}\")\n",
    "print(f\"Modelo B: p-valor normalidad = {p_value_B:.4f}\")"
   ]
  },
  {
   "cell_type": "markdown",
   "id": "1fec6984-1605-4c71-b6a1-9857c6edcdc9",
   "metadata": {},
   "source": [
    "### Ejemplo práctico (Python): Comparación con Wilcoxon"
   ]
  },
  {
   "cell_type": "code",
   "execution_count": 13,
   "id": "0c4ca0ba-ff0f-4a23-afd5-1ad617c08d51",
   "metadata": {},
   "outputs": [
    {
     "name": "stdout",
     "output_type": "stream",
     "text": [
      "Wilcoxon: estadístico=209.0000, p-valor=0.6408\n"
     ]
    }
   ],
   "source": [
    "from scipy.stats import wilcoxon\n",
    "\n",
    "# Wilcoxon Signed-Rank Test\n",
    "stat, p_value = wilcoxon(modelo_A, modelo_B)\n",
    "print(f\"Wilcoxon: estadístico={stat:.4f}, p-valor={p_value:.4f}\")"
   ]
  },
  {
   "cell_type": "markdown",
   "id": "2e196cb6-d0bd-402f-ade1-5a10a9e660b5",
   "metadata": {},
   "source": [
    "### Ejemplo práctico: t-test no pareado"
   ]
  },
  {
   "cell_type": "code",
   "execution_count": 14,
   "id": "9757796b-5d7a-415e-a39a-a30efa757343",
   "metadata": {},
   "outputs": [
    {
     "name": "stdout",
     "output_type": "stream",
     "text": [
      "t-test no pareado: estadístico=-4.5878, p-valor=0.0000\n"
     ]
    }
   ],
   "source": [
    "from scipy.stats import ttest_ind\n",
    "\n",
    "# Comparación de dos grupos independientes\n",
    "grupo_1 = np.random.normal(0.82, 0.03, 30)  # Modelo entrenado en Dataset 1\n",
    "grupo_2 = np.random.normal(0.85, 0.02, 30)  # Modelo entrenado en Dataset 2\n",
    "\n",
    "# t-test no pareado\n",
    "stat, p_value = ttest_ind(grupo_1, grupo_2, equal_var=True)\n",
    "print(f\"t-test no pareado: estadístico={stat:.4f}, p-valor={p_value:.4f}\")"
   ]
  },
  {
   "cell_type": "code",
   "execution_count": null,
   "id": "a9c8f3bb-232e-482a-ae42-4d224707d52b",
   "metadata": {},
   "outputs": [],
   "source": []
  }
 ],
 "metadata": {
  "kernelspec": {
   "display_name": "Python 3 (ipykernel)",
   "language": "python",
   "name": "python3"
  },
  "language_info": {
   "codemirror_mode": {
    "name": "ipython",
    "version": 3
   },
   "file_extension": ".py",
   "mimetype": "text/x-python",
   "name": "python",
   "nbconvert_exporter": "python",
   "pygments_lexer": "ipython3",
   "version": "3.12.8"
  }
 },
 "nbformat": 4,
 "nbformat_minor": 5
}
